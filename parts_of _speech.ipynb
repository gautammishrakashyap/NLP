{
 "cells": [
  {
   "cell_type": "code",
   "execution_count": 70,
   "metadata": {},
   "outputs": [],
   "source": [
    "paragraph=(\"A warm welcome to you all. I am here to deliver a speech on India. India is one of the ancient civilizations in the world and is also the 7th largest country in the world. India is one of the best countries in the world for many reasons, acceptance of people of other religions, the closely bonded family culture, the biggest democratic nation, and the fastest-growing economy. With 1.3 billion of population India is the second-largest country in the world. India is God’s favorite country to be blessed with all seasons – spring, summer, monsoon, autumn, pre-winter, and winter. People around the world also recognize India for its Bollywood stardom and Beauty pageants.The number system and the number zero are the gifts by Aryabhatta from India to the world. One of the finest and First University of the world Takshshila belongs to India from 700 BC. Sanskrit, Ayurveda, Art of Navigation, Astronomy, Algebra, Trigonometry, Calculus, Decimal system, Chess and many more are the achievement of Indian History.\")"
   ]
  },
  {
   "cell_type": "code",
   "execution_count": 71,
   "metadata": {},
   "outputs": [],
   "source": [
    "import nltk\n",
    "sentence=nltk.sent_tokenize(paragraph)"
   ]
  },
  {
   "cell_type": "code",
   "execution_count": 72,
   "metadata": {},
   "outputs": [],
   "source": [
    "from nltk.corpus import stopwords\n",
    "sentence=nltk.sent_tokenize(paragraph)"
   ]
  },
  {
   "cell_type": "code",
   "execution_count": 73,
   "metadata": {},
   "outputs": [
    {
     "data": {
      "text/plain": [
       "'A warm welcome to you all. I am here to deliver a speech on India. India is one of the ancient civilizations in the world and is also the 7th largest country in the world. India is one of the best countries in the world for many reasons, acceptance of people of other religions, the closely bonded family culture, the biggest democratic nation, and the fastest-growing economy. With 1.3 billion of population India is the second-largest country in the world. India is God’s favorite country to be blessed with all seasons – spring, summer, monsoon, autumn, pre-winter, and winter. People around the world also recognize India for its Bollywood stardom and Beauty pageants.The number system and the number zero are the gifts by Aryabhatta from India to the world. One of the finest and First University of the world Takshshila belongs to India from 700 BC. Sanskrit, Ayurveda, Art of Navigation, Astronomy, Algebra, Trigonometry, Calculus, Decimal system, Chess and many more are the achievement of Indian History.'"
      ]
     },
     "execution_count": 73,
     "metadata": {},
     "output_type": "execute_result"
    }
   ],
   "source": [
    "paragraph"
   ]
  },
  {
   "cell_type": "code",
   "execution_count": 77,
   "metadata": {},
   "outputs": [
    {
     "name": "stderr",
     "output_type": "stream",
     "text": [
      "[nltk_data] Downloading package punkt to\n",
      "[nltk_data]     C:\\Users\\Raju\\AppData\\Roaming\\nltk_data...\n",
      "[nltk_data]   Package punkt is already up-to-date!\n",
      "[nltk_data] Downloading package stopwords to\n",
      "[nltk_data]     C:\\Users\\Raju\\AppData\\Roaming\\nltk_data...\n",
      "[nltk_data]   Package stopwords is already up-to-date!\n",
      "[nltk_data] Downloading package averaged_perceptron_tagger_eng to\n",
      "[nltk_data]     C:\\Users\\Raju\\AppData\\Roaming\\nltk_data...\n",
      "[nltk_data]   Unzipping taggers\\averaged_perceptron_tagger_eng.zip.\n"
     ]
    },
    {
     "data": {
      "text/plain": [
       "True"
      ]
     },
     "execution_count": 77,
     "metadata": {},
     "output_type": "execute_result"
    }
   ],
   "source": [
    "import nltk\n",
    "from nltk.tokenize import word_tokenize\n",
    "from nltk.corpus import stopwords\n",
    "\n",
    "# ✅ Ensure required downloads\n",
    "nltk.download('punkt')\n",
    "nltk.download('stopwords')\n",
    "nltk.download('averaged_perceptron_tagger_eng')"
   ]
  },
  {
   "cell_type": "code",
   "execution_count": 75,
   "metadata": {},
   "outputs": [
    {
     "name": "stdout",
     "output_type": "stream",
     "text": [
      "C:\\Users\\Raju\\AppData\\Roaming\\nltk_data\\taggers\\averaged_perceptron_tagger\n"
     ]
    }
   ],
   "source": [
    "import nltk\n",
    "print(nltk.data.find('taggers/averaged_perceptron_tagger'))\n"
   ]
  },
  {
   "cell_type": "code",
   "execution_count": 78,
   "metadata": {},
   "outputs": [
    {
     "name": "stdout",
     "output_type": "stream",
     "text": [
      "[('warm', 'JJ'), ('welcome', 'NN'), ('.', '.')]\n",
      "[('deliver', 'NN'), ('speech', 'NN'), ('India', 'NNP'), ('.', '.')]\n",
      "[('India', 'NNP'), ('one', 'CD'), ('ancient', 'NN'), ('civilizations', 'NNS'), ('world', 'NN'), ('also', 'RB'), ('7th', 'CD'), ('largest', 'JJS'), ('country', 'NN'), ('world', 'NN'), ('.', '.')]\n",
      "[('India', 'NNP'), ('one', 'CD'), ('best', 'JJS'), ('countries', 'NNS'), ('world', 'NN'), ('many', 'JJ'), ('reasons', 'NNS'), (',', ','), ('acceptance', 'NN'), ('people', 'NNS'), ('religions', 'NNS'), (',', ','), ('closely', 'RB'), ('bonded', 'VBN'), ('family', 'NN'), ('culture', 'NN'), (',', ','), ('biggest', 'JJS'), ('democratic', 'JJ'), ('nation', 'NN'), (',', ','), ('fastest-growing', 'JJ'), ('economy', 'NN'), ('.', '.')]\n",
      "[('1.3', 'CD'), ('billion', 'CD'), ('population', 'NN'), ('India', 'NNP'), ('second-largest', 'JJ'), ('country', 'NN'), ('world', 'NN'), ('.', '.')]\n",
      "[('India', 'NNP'), ('God', 'NNP'), ('’', 'NNP'), ('favorite', 'JJ'), ('country', 'NN'), ('blessed', 'VBD'), ('seasons', 'NNS'), ('–', 'JJ'), ('spring', 'NN'), (',', ','), ('summer', 'NN'), (',', ','), ('monsoon', 'NN'), (',', ','), ('autumn', 'NN'), (',', ','), ('pre-winter', 'NN'), (',', ','), ('winter', 'NN'), ('.', '.')]\n",
      "[('People', 'NNS'), ('around', 'IN'), ('world', 'NN'), ('also', 'RB'), ('recognize', 'VBP'), ('India', 'NNP'), ('Bollywood', 'NNP'), ('stardom', 'NN'), ('Beauty', 'NNP'), ('pageants.The', 'NN'), ('number', 'NN'), ('system', 'NN'), ('number', 'NN'), ('zero', 'CD'), ('gifts', 'NNS'), ('Aryabhatta', 'NNP'), ('India', 'NNP'), ('world', 'NN'), ('.', '.')]\n",
      "[('One', 'CD'), ('finest', 'JJS'), ('First', 'NNP'), ('University', 'NNP'), ('world', 'NN'), ('Takshshila', 'NNP'), ('belongs', 'VBZ'), ('India', 'NNP'), ('700', 'CD'), ('BC', 'NNP'), ('.', '.')]\n",
      "[('Sanskrit', 'NNP'), (',', ','), ('Ayurveda', 'NNP'), (',', ','), ('Art', 'NNP'), ('Navigation', 'NNP'), (',', ','), ('Astronomy', 'NNP'), (',', ','), ('Algebra', 'NNP'), (',', ','), ('Trigonometry', 'NNP'), (',', ','), ('Calculus', 'NNP'), (',', ','), ('Decimal', 'NNP'), ('system', 'NN'), (',', ','), ('Chess', 'NNP'), ('many', 'JJ'), ('achievement', 'JJ'), ('Indian', 'JJ'), ('History', 'NNP'), ('.', '.')]\n"
     ]
    }
   ],
   "source": [
    "for i in range(len(sentence)):\n",
    "    words = word_tokenize(sentence[i])  # Tokenize words\n",
    "    words = [word for word in words if word.lower() not in set(stopwords.words('english'))]  # Remove stopwords\n",
    "    sentence[i] = ' '.join(words)  # Fix joining words\n",
    "\n",
    "    pos_tag = nltk.pos_tag(words)  # ✅ Should work now!\n",
    "    print(pos_tag)"
   ]
  },
  {
   "cell_type": "code",
   "execution_count": 67,
   "metadata": {},
   "outputs": [],
   "source": []
  },
  {
   "cell_type": "code",
   "execution_count": 81,
   "metadata": {},
   "outputs": [
    {
     "name": "stdout",
     "output_type": "stream",
     "text": [
      "the: DT\n",
      "taj: NN\n",
      "mahal: NN\n",
      "is: VBZ\n",
      "a: DT\n",
      "beautiful: JJ\n",
      "monument: NN\n"
     ]
    },
    {
     "name": "stderr",
     "output_type": "stream",
     "text": [
      "[nltk_data] Downloading package punkt to\n",
      "[nltk_data]     C:\\Users\\Raju\\AppData\\Roaming\\nltk_data...\n",
      "[nltk_data]   Package punkt is already up-to-date!\n",
      "[nltk_data] Downloading package stopwords to\n",
      "[nltk_data]     C:\\Users\\Raju\\AppData\\Roaming\\nltk_data...\n",
      "[nltk_data]   Package stopwords is already up-to-date!\n",
      "[nltk_data] Downloading package averaged_perceptron_tagger to\n",
      "[nltk_data]     C:\\Users\\Raju\\AppData\\Roaming\\nltk_data...\n",
      "[nltk_data]   Package averaged_perceptron_tagger is already up-to-\n",
      "[nltk_data]       date!\n"
     ]
    }
   ],
   "source": [
    "import nltk\n",
    "from nltk.tokenize import word_tokenize\n",
    "from nltk.corpus import stopwords\n",
    "\n",
    "# Ensure required downloads\n",
    "nltk.download('punkt')\n",
    "nltk.download('stopwords')\n",
    "nltk.download('averaged_perceptron_tagger')\n",
    "\n",
    "sentence = \"the taj mahal is a beautiful monument\"\n",
    "\n",
    "# Tokenize the sentence into words\n",
    "words = sentence.split()  \n",
    "\n",
    "# Perform POS tagging on the list of words\n",
    "pos_tags = nltk.pos_tag(words)\n",
    "\n",
    "# Print the POS tags\n",
    "for word, tag in pos_tags:\n",
    "    print(f\"{word}: {tag}\")"
   ]
  },
  {
   "cell_type": "code",
   "execution_count": 82,
   "metadata": {},
   "outputs": [
    {
     "data": {
      "text/plain": [
       "['the', 'taj', 'mahal', 'is', 'a', 'beautiful', 'monument']"
      ]
     },
     "execution_count": 82,
     "metadata": {},
     "output_type": "execute_result"
    }
   ],
   "source": [
    "\"the taj mahal is a beautiful monument\".split()"
   ]
  }
 ],
 "metadata": {
  "kernelspec": {
   "display_name": "venv",
   "language": "python",
   "name": "python3"
  },
  "language_info": {
   "codemirror_mode": {
    "name": "ipython",
    "version": 3
   },
   "file_extension": ".py",
   "mimetype": "text/x-python",
   "name": "python",
   "nbconvert_exporter": "python",
   "pygments_lexer": "ipython3",
   "version": "3.12.4"
  }
 },
 "nbformat": 4,
 "nbformat_minor": 2
}
